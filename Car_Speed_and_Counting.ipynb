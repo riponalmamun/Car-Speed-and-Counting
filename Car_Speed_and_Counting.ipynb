{
  "nbformat": 4,
  "nbformat_minor": 0,
  "metadata": {
    "colab": {
      "provenance": [],
      "authorship_tag": "ABX9TyO6SsIsIMnDQ8TFoPaYBC5m",
      "include_colab_link": true
    },
    "kernelspec": {
      "name": "python3",
      "display_name": "Python 3"
    },
    "language_info": {
      "name": "python"
    }
  },
  "cells": [
    {
      "cell_type": "markdown",
      "metadata": {
        "id": "view-in-github",
        "colab_type": "text"
      },
      "source": [
        "<a href=\"https://colab.research.google.com/github/riponalmamun/Car-Speed-and-Counting/blob/main/Car_Speed_and_Counting.ipynb\" target=\"_parent\"><img src=\"https://colab.research.google.com/assets/colab-badge.svg\" alt=\"Open In Colab\"/></a>"
      ]
    },
    {
      "cell_type": "code",
      "source": [
        "from google.colab import drive\n",
        "drive.mount('/content/drive')"
      ],
      "metadata": {
        "id": "pFU1RBbuyReW"
      },
      "execution_count": null,
      "outputs": []
    },
    {
      "cell_type": "code",
      "source": [
        "!pip install ultralytics"
      ],
      "metadata": {
        "id": "LGrnzKCfyP8O"
      },
      "execution_count": null,
      "outputs": []
    },
    {
      "cell_type": "code",
      "execution_count": null,
      "metadata": {
        "id": "sVEM9VuvyIeP"
      },
      "outputs": [],
      "source": [
        "import cv2\n",
        "from ultralytics import YOLO\n",
        "import time\n",
        "from google.colab.patches import cv2_imshow # Import cv2_imshow\n",
        "\n",
        "# load model\n",
        "model = YOLO(\"yolov8m.pt\")\n",
        "\n",
        "# get names from classes\n",
        "Classes = model.model.names\n",
        "\n",
        "# defined Target Classes\n",
        "lst = [\"car\", \"bus\", \"truck\"]\n",
        "TargetClasses = {key: Classes[key] for key in Classes if Classes[key] in lst}\n",
        "ClsInx = list(TargetClasses.keys())\n",
        "\n",
        "# defind 2 lines to calculate speed\n",
        "line1_y = 250  # first line\n",
        "line2_y = 400  # second line\n",
        "speed_limit = 60  # speed limit\n",
        "\n",
        "# load video\n",
        "cap = cv2.VideoCapture(r\"/content/drive/MyDrive/Car.mp4\")\n",
        "\n",
        "# store dataset vechicles\n",
        "TotalCounter = set()\n",
        "car_dict = {}\n",
        "\n",
        "while True :\n",
        "    ret, frame = cap.read()\n",
        "    if not ret:\n",
        "        print(\"video end\")\n",
        "        break\n",
        "\n",
        "    # draw lines\n",
        "    cv2.line(frame, (0, line1_y), (frame.shape[1], line1_y), (255, 0, 0), 2)  ## draw first line\n",
        "    cv2.line(frame, (0, line2_y), (frame.shape[1], line2_y), (0, 0, 255), 2)  ## draw second line\n",
        "\n",
        "    # operate yolo on frame to track object\n",
        "    results = model.track(frame, persist=True, classes=ClsInx, show=False, conf=0.1)\n",
        "\n",
        "    for result in results:\n",
        "        boxes = result.boxes.xyxy\n",
        "        ids = result.boxes.id\n",
        "        classes = result.boxes.cls\n",
        "\n",
        "        for box, id, cls in zip(boxes, ids, classes):\n",
        "            x, y, w, h = map(int, box)\n",
        "            cx, cy = (x + w) // 2, (y + h) // 2  # center of car\n",
        "\n",
        "            if int(cls) in ClsInx:\n",
        "                # add car if not added before\n",
        "                if int(id) not in car_dict:\n",
        "                    car_dict[int(id)] = {'entered': False, 'passed': False, 'time': None, 'speed': None}\n",
        "\n",
        "                # record pass time for first one for car\n",
        "                if cy >= line1_y and not car_dict[int(id)]['entered']:\n",
        "                    car_dict[int(id)]['time'] = time.time()\n",
        "                    car_dict[int(id)]['entered'] = True  # passed first one\n",
        "\n",
        "                # calc speed after pass second line after passing first line\n",
        "                if car_dict[int(id)]['entered'] and not car_dict[int(id)]['passed'] and cy >= line2_y:\n",
        "                    elapsed_time = time.time() - car_dict[int(id)]['time']  ## calc time between 2 lines\n",
        "                    speed = 150 / elapsed_time  # speed by pexel\n",
        "                    car_dict[int(id)]['speed'] = speed\n",
        "                    car_dict[int(id)]['passed'] = True  # record that car passed\n",
        "\n",
        "                    ## add car to counter for recording it\n",
        "                    TotalCounter.add(int(id))\n",
        "\n",
        "                # draw rectangle around car\n",
        "                cv2.rectangle(frame, (x, y), (w, h), (0, 255, 0), 2)\n",
        "\n",
        "                # display ID for car\n",
        "                cv2.putText(frame,\n",
        "                            f\"ID: {int(id)}\",\n",
        "                            (x, y - 10),\n",
        "                            cv2.FONT_HERSHEY_SIMPLEX,\n",
        "                            0.6,\n",
        "                            (0, 255, 255),\n",
        "                            2)\n",
        "\n",
        "                # display speed for px/s\n",
        "                if car_dict[int(id)]['speed'] is not None:\n",
        "                    speed_text = f\"Speed: {int(car_dict[int(id)]['speed'])} px/s\"\n",
        "                    color = (0, 255, 0) if car_dict[int(id)]['speed'] <= speed_limit else (0, 0, 255)  # red if car is heiest than speed limit\n",
        "                    cv2.putText(frame, speed_text, (x, y - 35), cv2.FONT_HERSHEY_SIMPLEX, 0.6, color, 2)\n",
        "\n",
        "                    # Warning if Speed higher than speed limit\n",
        "                    if car_dict[int(id)]['speed'] > speed_limit:\n",
        "                        cv2.putText(frame, \"OVERSPEED!\", (x, y - 60), cv2.FONT_HERSHEY_SIMPLEX, 0.7, (0, 0, 255), 2)\n",
        "\n",
        "    # display the Total Vechicles if passed 2 lines only\n",
        "    cv2.putText(frame, f\"Total Vehicles: {len(TotalCounter)}\", (10, 50), cv2.FONT_HERSHEY_SIMPLEX, 1, (0, 255, 255), 3)\n",
        "\n",
        "    # display frame using cv2_imshow\n",
        "    cv2_imshow(frame)  # Use cv2_imshow instead of cv2.imshow\n",
        "\n",
        "    if cv2.waitKey(50) & 0xFF == ord(\"q\"):\n",
        "        break\n",
        "\n",
        "cap.release()\n",
        "cv2.destroyAllWindows()"
      ]
    }
  ]
}